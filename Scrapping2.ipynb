{
 "cells": [
  {
   "cell_type": "code",
   "execution_count": 63,
   "id": "68fb729c-2cbe-49dc-a5a4-72aee566d24d",
   "metadata": {},
   "outputs": [],
   "source": [
    "from bs4 import BeautifulSoup as bs\n",
    "import bs4\n",
    "import lxml\n",
    "import lxml.etree"
   ]
  },
  {
   "cell_type": "code",
   "execution_count": 2,
   "id": "2d44444e-3a22-4f2c-8ae0-96add6afe912",
   "metadata": {},
   "outputs": [
    {
     "name": "stdout",
     "output_type": "stream",
     "text": [
      "4.12.2\n"
     ]
    }
   ],
   "source": [
    "print(bs4.__version__)"
   ]
  },
  {
   "cell_type": "code",
   "execution_count": null,
   "id": "d12181c4-7563-4a37-8034-f36c12d66b41",
   "metadata": {},
   "outputs": [],
   "source": [
    "pip install beautifulsoup4==4.12.2"
   ]
  },
  {
   "cell_type": "code",
   "execution_count": 8,
   "id": "2a140435-ece9-4818-8c0b-9448434800b0",
   "metadata": {},
   "outputs": [],
   "source": [
    "html =\"\"\"<!DOCTYPE html>\n",
    "<html>\n",
    "<head>\n",
    "  <title>Complicated HTML Code</title>\n",
    "</head>\n",
    "<body>\n",
    "  <div class=\"container\">\n",
    "    <h1 id=\"main-heading\">This is a heading</h1>\n",
    "    <h2 class=\"subheading\">This is a subheading</h2>\n",
    "    <div class=\"paragraph\">\n",
    "      <p>This is a paragraph</p>\n",
    "      <img src=\"https://picsum.photos/200/200\" alt=\"A random image\">\n",
    "      <ul class=\"list\">\n",
    "        <li>This is a list item</li>\n",
    "        <li>This is another list item</li>\n",
    "        <li>This is the last list item</li>\n",
    "      </ul>\n",
    "      <table>\n",
    "        <thead>\n",
    "          <tr>\n",
    "            <th class=\"header-1\">Header 1</th>\n",
    "            <th class=\"header-2\">Header 2</th>\n",
    "            <th class=\"header-3\">Header 3</th>\n",
    "          </tr>\n",
    "        </thead>\n",
    "        <tbody>\n",
    "          <tr>\n",
    "            <td>Data 1</td>\n",
    "            <td>Data 2</td>\n",
    "            <td>Data 3</td>\n",
    "          </tr>\n",
    "          <tr>\n",
    "            <td>Data 4</td>\n",
    "            <td>Data 5</td>\n",
    "            <td>Data 6</td>\n",
    "          </tr>\n",
    "        </tbody>\n",
    "      </table>\n",
    "      <div id=\"new-div-1\">\n",
    "        <h3>This is the first new div</h3>\n",
    "        <p>This is the content of the first new div. It has a text, an image, and a link.</p>\n",
    "        <img src=\"https://picsum.photos/200/200\" alt=\"A random image\">\n",
    "        <a href=\"https://www.google.com\">This is a link</a>\n",
    "      </div>\n",
    "      <div id=\"new-div-2\">\n",
    "        <h3>This is the second new div</h3>\n",
    "        <p>This is the content of the second new div. It has a text, an image, and a link.</p>\n",
    "        <img src=\"https://picsum.photos/200/200\" alt=\"A random image\">\n",
    "        <a href=\"https://www.yahoo.com\">This is a link</a>\n",
    "      </div>\n",
    "      <div id=\"new-div-3\">\n",
    "        <h3>This is the third new div</h3>\n",
    "        <p>This is the content of the third new div. It has a text, an image, and a link.</p>\n",
    "        <img src=\"https://picsum.photos/200/200\" alt=\"A random image\">\n",
    "        <a href=\"https://www.bing.com\">This is a link</a>\n",
    "      </div>\n",
    "    </div>\n",
    "  </div>\n",
    "</body>\n",
    "</html>\"\"\""
   ]
  },
  {
   "cell_type": "code",
   "execution_count": 48,
   "id": "d0c47049-357a-4044-bc7f-373bf0e2c3d0",
   "metadata": {},
   "outputs": [],
   "source": [
    "soup = bs4.BeautifulSoup(html,'html')"
   ]
  },
  {
   "cell_type": "markdown",
   "id": "9bf0f3fa-c8ba-4872-a8f4-06ad7bfe888c",
   "metadata": {
    "tags": []
   },
   "source": [
    "## Navigating the soup object"
   ]
  },
  {
   "cell_type": "raw",
   "id": "23e9d599-d568-4b4e-b4a3-56f94ae5e204",
   "metadata": {},
   "source": [
    "\"\"\"\n",
    "This Python code uses BeautifulSoup to navigate an HTML document.\n",
    "\n",
    "The code first gets the HTML code from the URL. Then, it creates a BeautifulSoup object and uses it to navigate the HTML code.\n",
    "\n",
    "The code then prints the following information:\n",
    "\n",
    "* The text of the h1 tag\n",
    "* The contents of all the p tags\n",
    "* All the descendants of the soup object\n",
    "* All the strings in the soup object\n",
    "* The stripped strings in the soup object\n",
    "* The parent of the h1 tag\n",
    "* All the parents of the h1 tag\n",
    "* The next sibling of the h1 tag\n",
    "* The previous sibling of the h1 tag\n",
    "* All the next siblings of the h1 tag\n",
    "* All the previous siblings of the h1 tag\n",
    "* The next element of the h1 tag\n",
    "* The previous element of the h1 tag\n",
    "* All the next elements of the h1 tag and all the previous elements of the h1 tag\n",
    "\n",
    "\"\"\""
   ]
  },
  {
   "cell_type": "code",
   "execution_count": 10,
   "id": "892082f3-85e7-4311-8ed9-b495cdd2e4fa",
   "metadata": {},
   "outputs": [
    {
     "name": "stdout",
     "output_type": "stream",
     "text": [
      "The text of the h1 tag: This is a heading\n"
     ]
    }
   ],
   "source": [
    "# Get the text of the h1 tag\n",
    "h1_tag = soup.find('h1')\n",
    "print(f\"The text of the h1 tag: {h1_tag.text}\")"
   ]
  },
  {
   "cell_type": "code",
   "execution_count": 11,
   "id": "b2f41b2a-f023-4fcd-b437-9469626b5b58",
   "metadata": {},
   "outputs": [
    {
     "name": "stdout",
     "output_type": "stream",
     "text": [
      "The contents of the p tag: ['This is a paragraph']\n",
      "The contents of the p tag: ['This is the content of the first new div. It has a text, an image, and a link.']\n",
      "The contents of the p tag: ['This is the content of the second new div. It has a text, an image, and a link.']\n",
      "The contents of the p tag: ['This is the content of the third new div. It has a text, an image, and a link.']\n"
     ]
    }
   ],
   "source": [
    "# Get the contents of all the p tags\n",
    "p_tags = soup.find_all('p')\n",
    "for p_tag in p_tags:\n",
    "  print(f\"The contents of the p tag: {p_tag.contents}\")"
   ]
  },
  {
   "cell_type": "code",
   "execution_count": null,
   "id": "306c7530-9fd6-481f-8bcc-c0b97b33cdca",
   "metadata": {},
   "outputs": [],
   "source": [
    "# Get all the descendants of the soup object\n",
    "all_tags = soup.body.table.children\n",
    "for tag in all_tags:\n",
    "  print(f\"The children tag: {tag}\")"
   ]
  },
  {
   "cell_type": "code",
   "execution_count": null,
   "id": "2905ece1-180b-4109-bc71-8a3464d78a68",
   "metadata": {},
   "outputs": [],
   "source": [
    "# Get all the strings in the soup object\n",
    "strings = soup.strings\n",
    "for string in strings:\n",
    "  print(f\"The string: {string}\")"
   ]
  },
  {
   "cell_type": "code",
   "execution_count": null,
   "id": "f45edd1d-980f-427d-af86-8554d1bf3e98",
   "metadata": {},
   "outputs": [],
   "source": [
    "# Get the stripped strings in the soup object\n",
    "stripped_strings = soup.stripped_strings\n",
    "for string in stripped_strings:\n",
    "  print(f\"The stripped string: {string}\")"
   ]
  },
  {
   "cell_type": "code",
   "execution_count": null,
   "id": "4feb6dc1-5059-44a6-bdf4-fd32e60b3c59",
   "metadata": {},
   "outputs": [],
   "source": [
    "paragraph = soup.find('div', class_='paragraph')"
   ]
  },
  {
   "cell_type": "code",
   "execution_count": null,
   "id": "405c64fd-1094-49ef-9554-e5220735d08f",
   "metadata": {},
   "outputs": [],
   "source": [
    "paragraph.find_parent()"
   ]
  },
  {
   "cell_type": "code",
   "execution_count": null,
   "id": "c2ccdca4-55c1-457d-83c7-33eb70057a44",
   "metadata": {},
   "outputs": [],
   "source": [
    "# Get the next sibling of the paragraph\n",
    "listul = soup.find('ul', class_='list')\n",
    "next_sibling = listul.next_sibling\n"
   ]
  },
  {
   "cell_type": "code",
   "execution_count": null,
   "id": "9ed1c5ae-21a5-4c16-99b4-5089fb4bd938",
   "metadata": {},
   "outputs": [],
   "source": [
    "listul.find_next_sibling()"
   ]
  },
  {
   "cell_type": "code",
   "execution_count": null,
   "id": "826e8b24-8cbc-4349-8ec0-aefc07ba2cb7",
   "metadata": {},
   "outputs": [],
   "source": [
    "# Get the previous sibling of the ul tag\n",
    "previous_sibling = listul.previous_sibling\n",
    "print(f\"The previous sibling tag: {previous_sibling}\")"
   ]
  },
  {
   "cell_type": "code",
   "execution_count": null,
   "id": "25e729b1-a25e-41d9-9a13-c949e385ef36",
   "metadata": {},
   "outputs": [],
   "source": [
    "previous_sibling=listul.find_previous_sibling()\n",
    "previous_sibling"
   ]
  },
  {
   "cell_type": "code",
   "execution_count": null,
   "id": "30c71709-ba69-4ed4-aa8d-0480e1a4a59f",
   "metadata": {},
   "outputs": [],
   "source": [
    "# Get all the next siblings of the h1 tag\n",
    "next_siblings = h1_tag.find_next_siblings()\n",
    "nn=1\n",
    "for sibling in next_siblings:\n",
    "    print(f\"{nn}-{sibling}\")\n",
    "    nn=nn+1"
   ]
  },
  {
   "cell_type": "code",
   "execution_count": null,
   "id": "72261813-385a-4e9f-84c9-8522b0881fbd",
   "metadata": {},
   "outputs": [],
   "source": [
    "# Get the next element of the h1 tag\n",
    "next_element = h1_tag.next_element\n",
    "print(f\"The next element tag: {next_element}\")"
   ]
  },
  {
   "cell_type": "code",
   "execution_count": null,
   "id": "edac33bd-39bf-45d6-8bf7-4a685c0a2610",
   "metadata": {},
   "outputs": [],
   "source": [
    "# Get the next element of the ul tag\n",
    "next_element = listul.find_next()\n",
    "print(f\"The next element tag: {next_element}\")"
   ]
  },
  {
   "cell_type": "code",
   "execution_count": null,
   "id": "611f11eb-e62a-450a-b993-5e69b922cb4d",
   "metadata": {},
   "outputs": [],
   "source": [
    "# Get the previous element of the h1 tag\n",
    "previous_element = h1_tag.previous_element\n",
    "previous_element"
   ]
  },
  {
   "cell_type": "code",
   "execution_count": null,
   "id": "301daa00-7ce8-40ad-b099-0c0fd9b855cb",
   "metadata": {},
   "outputs": [],
   "source": [
    "# Get the previous element of the h1 tag\n",
    "previous_element = h1_tag.find_previous()\n",
    "previous_element"
   ]
  },
  {
   "cell_type": "markdown",
   "id": "5a60d4e3-4735-432d-be4c-20bc0b7f9735",
   "metadata": {},
   "source": [
    "## Searching the tree"
   ]
  },
  {
   "cell_type": "raw",
   "id": "f3a151ee-3a29-4a0b-8ba5-f7c3e3b38cd3",
   "metadata": {},
   "source": [
    "If you call mytag.find_all(), Beautiful Soup will examine all the descendants of mytag: its children, its children’s children, and so on. If you only want Beautiful Soup to consider direct children, you can pass in recursive=False. See the difference here:"
   ]
  },
  {
   "cell_type": "code",
   "execution_count": null,
   "id": "0dc24e25-f822-45a1-9540-8cdeb3026aef",
   "metadata": {},
   "outputs": [],
   "source": [
    "nextelement =soup.body.find_all('div', recursive=True)\n",
    "len(nextelement)"
   ]
  },
  {
   "cell_type": "code",
   "execution_count": null,
   "id": "9a6a3ea1-a534-46a7-83eb-57b89bd30baf",
   "metadata": {},
   "outputs": [],
   "source": [
    "nextelement =soup.body.find_all('div', recursive=False)\n",
    "len(nextelement)"
   ]
  },
  {
   "cell_type": "code",
   "execution_count": null,
   "id": "3cc47012-0b71-47c9-a2fc-bfc49f2ce502",
   "metadata": {},
   "outputs": [],
   "source": [
    "# Find all the divs with the id `new-div-1`\n",
    "divs = soup.find_all('div', id='new-div-1')"
   ]
  },
  {
   "cell_type": "code",
   "execution_count": null,
   "id": "73d6e000-f3c5-43ef-8c18-790150a0ad77",
   "metadata": {},
   "outputs": [],
   "source": [
    "divs"
   ]
  },
  {
   "cell_type": "code",
   "execution_count": null,
   "id": "cedd804d-0ae8-4b14-8094-cdc930da5542",
   "metadata": {},
   "outputs": [],
   "source": [
    "next_div = divs[0].find_next('div')"
   ]
  },
  {
   "cell_type": "code",
   "execution_count": null,
   "id": "bfdd50ad-a84a-4429-b5ce-ec75956ab239",
   "metadata": {},
   "outputs": [],
   "source": [
    "next_div"
   ]
  },
  {
   "cell_type": "code",
   "execution_count": null,
   "id": "387fda06-ca20-4647-ba81-3fe17bcfbdd4",
   "metadata": {},
   "outputs": [],
   "source": [
    "all_next_divs = divs[0].find_all_next('div')\n",
    "all_next_divs"
   ]
  },
  {
   "cell_type": "code",
   "execution_count": null,
   "id": "06665926-6c38-4785-b95a-20284f746be3",
   "metadata": {},
   "outputs": [],
   "source": [
    "div3=divs = soup.find_all('div', id='new-div-3')"
   ]
  },
  {
   "cell_type": "code",
   "execution_count": null,
   "id": "ec70bf66-2c08-42a1-aa5a-7a97779da6ed",
   "metadata": {},
   "outputs": [],
   "source": [
    "div3"
   ]
  },
  {
   "cell_type": "code",
   "execution_count": null,
   "id": "6f57bd17-e655-487a-a882-b6b666bd1aa7",
   "metadata": {},
   "outputs": [],
   "source": [
    "# Find the previous div before the first div\n",
    "previous_div = div3[0].find_previous('div')"
   ]
  },
  {
   "cell_type": "code",
   "execution_count": null,
   "id": "3e390b0d-8ee8-4716-98de-291124874875",
   "metadata": {},
   "outputs": [],
   "source": [
    "previous_div"
   ]
  },
  {
   "cell_type": "code",
   "execution_count": null,
   "id": "5cc59361-60e8-4b5b-80e9-fe81cddcc442",
   "metadata": {},
   "outputs": [],
   "source": [
    "all_previous_divs = div3[0].find_all_previous('div')"
   ]
  },
  {
   "cell_type": "code",
   "execution_count": null,
   "id": "4b4db345-7326-454b-9061-d408bdf00c8e",
   "metadata": {},
   "outputs": [],
   "source": [
    "all_previous_divs"
   ]
  },
  {
   "cell_type": "markdown",
   "id": "c36d8ad6-fa9e-43db-adf1-21f3fbfb4c89",
   "metadata": {},
   "source": [
    "# using soup.css selector"
   ]
  },
  {
   "cell_type": "raw",
   "id": "1ebcee09-6e7e-4006-abeb-ca8a8945b914",
   "metadata": {},
   "source": [
    "The soup.css() method is used to select elements from a BeautifulSoup object using CSS selectors. A CSS selector is a string that specifies the elements to be selected."
   ]
  },
  {
   "cell_type": "code",
   "execution_count": null,
   "id": "894e743f-f1ef-4180-9a5e-186f27242049",
   "metadata": {},
   "outputs": [],
   "source": [
    "#For example, the following code selects all the div tags:"
   ]
  },
  {
   "cell_type": "code",
   "execution_count": 23,
   "id": "b487ce8e-d87f-49e7-9954-6b1ca7a5ef9a",
   "metadata": {},
   "outputs": [
    {
     "data": {
      "text/plain": [
       "[<div class=\"container\">\n",
       " <h1 id=\"main-heading\">This is a heading</h1>\n",
       " <h2 class=\"subheading\">This is a subheading</h2>\n",
       " <div class=\"paragraph\">\n",
       " <p>This is a paragraph</p>\n",
       " <img alt=\"A random image\" src=\"https://picsum.photos/200/200\"/>\n",
       " <ul class=\"list\">\n",
       " <li>This is a list item</li>\n",
       " <li>This is another list item</li>\n",
       " <li>This is the last list item</li>\n",
       " </ul>\n",
       " <table>\n",
       " <thead>\n",
       " <tr>\n",
       " <th class=\"header-1\">Header 1</th>\n",
       " <th class=\"header-2\">Header 2</th>\n",
       " <th class=\"header-3\">Header 3</th>\n",
       " </tr>\n",
       " </thead>\n",
       " <tbody>\n",
       " <tr>\n",
       " <td>Data 1</td>\n",
       " <td>Data 2</td>\n",
       " <td>Data 3</td>\n",
       " </tr>\n",
       " <tr>\n",
       " <td>Data 4</td>\n",
       " <td>Data 5</td>\n",
       " <td>Data 6</td>\n",
       " </tr>\n",
       " </tbody>\n",
       " </table>\n",
       " <div id=\"new-div-1\">\n",
       " <h3>This is the first new div</h3>\n",
       " <p>This is the content of the first new div. It has a text, an image, and a link.</p>\n",
       " <img alt=\"A random image\" src=\"https://picsum.photos/200/200\"/>\n",
       " <a href=\"https://www.google.com\">This is a link</a>\n",
       " </div>\n",
       " <div id=\"new-div-2\">\n",
       " <h3>This is the second new div</h3>\n",
       " <p>This is the content of the second new div. It has a text, an image, and a link.</p>\n",
       " <img alt=\"A random image\" src=\"https://picsum.photos/200/200\"/>\n",
       " <a href=\"https://www.yahoo.com\">This is a link</a>\n",
       " </div>\n",
       " <div id=\"new-div-3\">\n",
       " <h3>This is the third new div</h3>\n",
       " <p>This is the content of the third new div. It has a text, an image, and a link.</p>\n",
       " <img alt=\"A random image\" src=\"https://picsum.photos/200/200\"/>\n",
       " <a href=\"https://www.bing.com\">This is a link</a>\n",
       " </div>\n",
       " </div>\n",
       " </div>,\n",
       " <div class=\"paragraph\">\n",
       " <p>This is a paragraph</p>\n",
       " <img alt=\"A random image\" src=\"https://picsum.photos/200/200\"/>\n",
       " <ul class=\"list\">\n",
       " <li>This is a list item</li>\n",
       " <li>This is another list item</li>\n",
       " <li>This is the last list item</li>\n",
       " </ul>\n",
       " <table>\n",
       " <thead>\n",
       " <tr>\n",
       " <th class=\"header-1\">Header 1</th>\n",
       " <th class=\"header-2\">Header 2</th>\n",
       " <th class=\"header-3\">Header 3</th>\n",
       " </tr>\n",
       " </thead>\n",
       " <tbody>\n",
       " <tr>\n",
       " <td>Data 1</td>\n",
       " <td>Data 2</td>\n",
       " <td>Data 3</td>\n",
       " </tr>\n",
       " <tr>\n",
       " <td>Data 4</td>\n",
       " <td>Data 5</td>\n",
       " <td>Data 6</td>\n",
       " </tr>\n",
       " </tbody>\n",
       " </table>\n",
       " <div id=\"new-div-1\">\n",
       " <h3>This is the first new div</h3>\n",
       " <p>This is the content of the first new div. It has a text, an image, and a link.</p>\n",
       " <img alt=\"A random image\" src=\"https://picsum.photos/200/200\"/>\n",
       " <a href=\"https://www.google.com\">This is a link</a>\n",
       " </div>\n",
       " <div id=\"new-div-2\">\n",
       " <h3>This is the second new div</h3>\n",
       " <p>This is the content of the second new div. It has a text, an image, and a link.</p>\n",
       " <img alt=\"A random image\" src=\"https://picsum.photos/200/200\"/>\n",
       " <a href=\"https://www.yahoo.com\">This is a link</a>\n",
       " </div>\n",
       " <div id=\"new-div-3\">\n",
       " <h3>This is the third new div</h3>\n",
       " <p>This is the content of the third new div. It has a text, an image, and a link.</p>\n",
       " <img alt=\"A random image\" src=\"https://picsum.photos/200/200\"/>\n",
       " <a href=\"https://www.bing.com\">This is a link</a>\n",
       " </div>\n",
       " </div>,\n",
       " <div id=\"new-div-1\">\n",
       " <h3>This is the first new div</h3>\n",
       " <p>This is the content of the first new div. It has a text, an image, and a link.</p>\n",
       " <img alt=\"A random image\" src=\"https://picsum.photos/200/200\"/>\n",
       " <a href=\"https://www.google.com\">This is a link</a>\n",
       " </div>,\n",
       " <div id=\"new-div-2\">\n",
       " <h3>This is the second new div</h3>\n",
       " <p>This is the content of the second new div. It has a text, an image, and a link.</p>\n",
       " <img alt=\"A random image\" src=\"https://picsum.photos/200/200\"/>\n",
       " <a href=\"https://www.yahoo.com\">This is a link</a>\n",
       " </div>,\n",
       " <div id=\"new-div-3\">\n",
       " <h3>This is the third new div</h3>\n",
       " <p>This is the content of the third new div. It has a text, an image, and a link.</p>\n",
       " <img alt=\"A random image\" src=\"https://picsum.photos/200/200\"/>\n",
       " <a href=\"https://www.bing.com\">This is a link</a>\n",
       " </div>]"
      ]
     },
     "execution_count": 23,
     "metadata": {},
     "output_type": "execute_result"
    }
   ],
   "source": [
    "soup.css.select('div')"
   ]
  },
  {
   "cell_type": "code",
   "execution_count": 24,
   "id": "ab1827d9-619a-42b4-9875-c315ea6aa471",
   "metadata": {},
   "outputs": [
    {
     "data": {
      "text/plain": [
       "[<h1 id=\"main-heading\">This is a heading</h1>]"
      ]
     },
     "execution_count": 24,
     "metadata": {},
     "output_type": "execute_result"
    }
   ],
   "source": [
    "soup.css.select('#main-heading')"
   ]
  },
  {
   "cell_type": "code",
   "execution_count": 26,
   "id": "7edc6360-a193-49c6-b129-70d850310a53",
   "metadata": {},
   "outputs": [
    {
     "data": {
      "text/plain": [
       "[<h2 class=\"subheading\">This is a subheading</h2>]"
      ]
     },
     "execution_count": 26,
     "metadata": {},
     "output_type": "execute_result"
    }
   ],
   "source": [
    "soup.css.select('.subheading')"
   ]
  },
  {
   "cell_type": "code",
   "execution_count": 32,
   "id": "85efd91d-c0b0-470e-8e80-2b9a608fdf60",
   "metadata": {},
   "outputs": [
    {
     "data": {
      "text/plain": [
       "[<li>This is a list item</li>,\n",
       " <li>This is another list item</li>,\n",
       " <li>This is the last list item</li>]"
      ]
     },
     "execution_count": 32,
     "metadata": {},
     "output_type": "execute_result"
    }
   ],
   "source": [
    "soup.css.select('li')"
   ]
  },
  {
   "cell_type": "code",
   "execution_count": 33,
   "id": "b988d57b-3b99-46d9-a966-71d82d02e271",
   "metadata": {},
   "outputs": [
    {
     "data": {
      "text/plain": [
       "[<li>This is a list item</li>]"
      ]
     },
     "execution_count": 33,
     "metadata": {},
     "output_type": "execute_result"
    }
   ],
   "source": [
    "soup.css.select('li:first-child')"
   ]
  },
  {
   "cell_type": "code",
   "execution_count": 31,
   "id": "1001993a-3624-4e0f-b150-cf461e336ee6",
   "metadata": {},
   "outputs": [
    {
     "data": {
      "text/plain": [
       "[<li>This is the last list item</li>]"
      ]
     },
     "execution_count": 31,
     "metadata": {},
     "output_type": "execute_result"
    }
   ],
   "source": [
    "soup.select('li:last-child')"
   ]
  },
  {
   "cell_type": "code",
   "execution_count": 34,
   "id": "c8200ac3-a7ef-4d89-a3e9-e7d22b8fcf17",
   "metadata": {},
   "outputs": [
    {
     "data": {
      "text/plain": [
       "[<li>This is another list item</li>]"
      ]
     },
     "execution_count": 34,
     "metadata": {},
     "output_type": "execute_result"
    }
   ],
   "source": [
    "soup.select('li:nth-child(2)')"
   ]
  },
  {
   "cell_type": "code",
   "execution_count": 35,
   "id": "ddc5995c-823c-4cf7-aeb9-c626e6ded95f",
   "metadata": {},
   "outputs": [
    {
     "data": {
      "text/plain": [
       "[<img alt=\"A random image\" src=\"https://picsum.photos/200/200\"/>,\n",
       " <img alt=\"A random image\" src=\"https://picsum.photos/200/200\"/>,\n",
       " <img alt=\"A random image\" src=\"https://picsum.photos/200/200\"/>,\n",
       " <img alt=\"A random image\" src=\"https://picsum.photos/200/200\"/>]"
      ]
     },
     "execution_count": 35,
     "metadata": {},
     "output_type": "execute_result"
    }
   ],
   "source": [
    "soup.select('img[src=\"https://picsum.photos/200/200\"]')"
   ]
  },
  {
   "cell_type": "code",
   "execution_count": 36,
   "id": "b424b813-ce61-4723-a161-2f3676027c8d",
   "metadata": {},
   "outputs": [
    {
     "data": {
      "text/plain": [
       "[]"
      ]
     },
     "execution_count": 36,
     "metadata": {},
     "output_type": "execute_result"
    }
   ],
   "source": [
    "soup.select('img[alt=\"This is an image\"]')"
   ]
  },
  {
   "cell_type": "code",
   "execution_count": 37,
   "id": "a2b7c44d-149d-424a-ba75-f9a923b41912",
   "metadata": {},
   "outputs": [
    {
     "data": {
      "text/plain": [
       "[<a href=\"https://www.google.com\">This is a link</a>]"
      ]
     },
     "execution_count": 37,
     "metadata": {},
     "output_type": "execute_result"
    }
   ],
   "source": [
    "soup.select('a[href=\"https://www.google.com\"]')"
   ]
  },
  {
   "cell_type": "code",
   "execution_count": 38,
   "id": "7e7ba711-270f-40d7-ab1c-385fb3bd8d33",
   "metadata": {},
   "outputs": [
    {
     "data": {
      "text/plain": [
       "[<div class=\"container\">\n",
       " <h1 id=\"main-heading\">This is a heading</h1>\n",
       " <h2 class=\"subheading\">This is a subheading</h2>\n",
       " <div class=\"paragraph\">\n",
       " <p>This is a paragraph</p>\n",
       " <img alt=\"A random image\" src=\"https://picsum.photos/200/200\"/>\n",
       " <ul class=\"list\">\n",
       " <li>This is a list item</li>\n",
       " <li>This is another list item</li>\n",
       " <li>This is the last list item</li>\n",
       " </ul>\n",
       " <table>\n",
       " <thead>\n",
       " <tr>\n",
       " <th class=\"header-1\">Header 1</th>\n",
       " <th class=\"header-2\">Header 2</th>\n",
       " <th class=\"header-3\">Header 3</th>\n",
       " </tr>\n",
       " </thead>\n",
       " <tbody>\n",
       " <tr>\n",
       " <td>Data 1</td>\n",
       " <td>Data 2</td>\n",
       " <td>Data 3</td>\n",
       " </tr>\n",
       " <tr>\n",
       " <td>Data 4</td>\n",
       " <td>Data 5</td>\n",
       " <td>Data 6</td>\n",
       " </tr>\n",
       " </tbody>\n",
       " </table>\n",
       " <div id=\"new-div-1\">\n",
       " <h3>This is the first new div</h3>\n",
       " <p>This is the content of the first new div. It has a text, an image, and a link.</p>\n",
       " <img alt=\"A random image\" src=\"https://picsum.photos/200/200\"/>\n",
       " <a href=\"https://www.google.com\">This is a link</a>\n",
       " </div>\n",
       " <div id=\"new-div-2\">\n",
       " <h3>This is the second new div</h3>\n",
       " <p>This is the content of the second new div. It has a text, an image, and a link.</p>\n",
       " <img alt=\"A random image\" src=\"https://picsum.photos/200/200\"/>\n",
       " <a href=\"https://www.yahoo.com\">This is a link</a>\n",
       " </div>\n",
       " <div id=\"new-div-3\">\n",
       " <h3>This is the third new div</h3>\n",
       " <p>This is the content of the third new div. It has a text, an image, and a link.</p>\n",
       " <img alt=\"A random image\" src=\"https://picsum.photos/200/200\"/>\n",
       " <a href=\"https://www.bing.com\">This is a link</a>\n",
       " </div>\n",
       " </div>\n",
       " </div>]"
      ]
     },
     "execution_count": 38,
     "metadata": {},
     "output_type": "execute_result"
    }
   ],
   "source": [
    "soup.select('div[class=\"container\"]')"
   ]
  },
  {
   "cell_type": "code",
   "execution_count": 39,
   "id": "61b0ae7a-5025-45d5-9ab9-4bb917a44831",
   "metadata": {},
   "outputs": [
    {
     "data": {
      "text/plain": [
       "[<h1 id=\"main-heading\">This is a heading</h1>]"
      ]
     },
     "execution_count": 39,
     "metadata": {},
     "output_type": "execute_result"
    }
   ],
   "source": [
    "soup.select('h1[id=\"main-heading\"]')"
   ]
  },
  {
   "cell_type": "code",
   "execution_count": 40,
   "id": "db952d5b-e384-4c63-82bf-029f21de7c66",
   "metadata": {},
   "outputs": [
    {
     "data": {
      "text/plain": [
       "[<li>This is a list item</li>,\n",
       " <li>This is another list item</li>,\n",
       " <li>This is the last list item</li>]"
      ]
     },
     "execution_count": 40,
     "metadata": {},
     "output_type": "execute_result"
    }
   ],
   "source": [
    "soup.select('.list li')\n"
   ]
  },
  {
   "cell_type": "code",
   "execution_count": 41,
   "id": "8a07d203-5523-477f-abb4-6e5afa920eeb",
   "metadata": {},
   "outputs": [
    {
     "data": {
      "text/plain": [
       "[<th class=\"header-1\">Header 1</th>]"
      ]
     },
     "execution_count": 41,
     "metadata": {},
     "output_type": "execute_result"
    }
   ],
   "source": [
    "soup.select('th.header-1')"
   ]
  },
  {
   "cell_type": "markdown",
   "id": "2aa2eadf-3a7d-475f-acbd-a2f88befcbe8",
   "metadata": {
    "tags": []
   },
   "source": [
    "## Select using xpath of etree"
   ]
  },
  {
   "cell_type": "code",
   "execution_count": 64,
   "id": "cc9118ed-e8d8-4dd5-a8e1-e064a5ee4f81",
   "metadata": {},
   "outputs": [],
   "source": [
    "dom = lxml.etree.HTML(str(soup))"
   ]
  },
  {
   "cell_type": "code",
   "execution_count": 70,
   "id": "9c3bb746-bc64-4fe8-8c7b-fc2fb152ff9e",
   "metadata": {},
   "outputs": [],
   "source": [
    "mheading=dom.xpath('//h1[@id=\"main-heading\"]')[0]"
   ]
  },
  {
   "cell_type": "code",
   "execution_count": 78,
   "id": "84175f04-95f6-449e-97b7-8fb9482e3937",
   "metadata": {},
   "outputs": [
    {
     "data": {
      "text/plain": [
       "'This is a heading'"
      ]
     },
     "execution_count": 78,
     "metadata": {},
     "output_type": "execute_result"
    }
   ],
   "source": [
    "mheading.text"
   ]
  },
  {
   "cell_type": "code",
   "execution_count": null,
   "id": "27aaf585-dddb-4417-8071-1ac4a6e2a736",
   "metadata": {},
   "outputs": [],
   "source": []
  }
 ],
 "metadata": {
  "kernelspec": {
   "display_name": "Python 3 (ipykernel)",
   "language": "python",
   "name": "python3"
  },
  "language_info": {
   "codemirror_mode": {
    "name": "ipython",
    "version": 3
   },
   "file_extension": ".py",
   "mimetype": "text/x-python",
   "name": "python",
   "nbconvert_exporter": "python",
   "pygments_lexer": "ipython3",
   "version": "3.9.13"
  }
 },
 "nbformat": 4,
 "nbformat_minor": 5
}
