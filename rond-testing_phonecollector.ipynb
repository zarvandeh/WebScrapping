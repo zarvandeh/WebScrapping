{
 "cells": [
  {
   "cell_type": "code",
   "execution_count": 7,
   "id": "0689c0cf",
   "metadata": {},
   "outputs": [],
   "source": [
    "import phonecollector as pc"
   ]
  },
  {
   "cell_type": "markdown",
   "id": "3925b91e",
   "metadata": {},
   "source": [
    "# start from here"
   ]
  },
  {
   "cell_type": "code",
   "execution_count": 8,
   "id": "5942d299",
   "metadata": {},
   "outputs": [
    {
     "name": "stdout",
     "output_type": "stream",
     "text": [
      "Fetching Data in 4 seconds\n",
      "Content successfully generated\n"
     ]
    },
    {
     "data": {
      "text/plain": [
       "{'username': 'فروشگاه آنلاین دکتر سیم', 'usercontacts': ['09351101000']}"
      ]
     },
     "execution_count": 8,
     "metadata": {},
     "output_type": "execute_result"
    }
   ],
   "source": [
    "pc.scrap_info_page('https://www.rond.ir/Sims/09301109291?id=229570')"
   ]
  },
  {
   "cell_type": "markdown",
   "id": "0750f4f9",
   "metadata": {},
   "source": [
    "### multiple pages"
   ]
  },
  {
   "cell_type": "code",
   "execution_count": 9,
   "id": "a7ceea53",
   "metadata": {},
   "outputs": [],
   "source": [
    "pages=['https://www.rond.ir/Sims/09301109291?id=229570',\n",
    "      'https://www.rond.ir/Sims/09385500100?id=100214']"
   ]
  },
  {
   "cell_type": "code",
   "execution_count": 10,
   "id": "d15b8780",
   "metadata": {},
   "outputs": [],
   "source": [
    "database=[]"
   ]
  },
  {
   "cell_type": "code",
   "execution_count": 12,
   "id": "ec16fb29",
   "metadata": {},
   "outputs": [
    {
     "name": "stdout",
     "output_type": "stream",
     "text": [
      "Fetching Data in 4 seconds\n",
      "Content successfully generated\n",
      "Fetching Data in 4 seconds\n",
      "Content successfully generated\n"
     ]
    }
   ],
   "source": [
    "for link in pages:\n",
    "    info=pc.scrap_info_page(link)\n",
    "    database.append(info)"
   ]
  },
  {
   "cell_type": "code",
   "execution_count": 13,
   "id": "3a736c63",
   "metadata": {},
   "outputs": [
    {
     "data": {
      "text/plain": [
       "[{'username': 'فروشگاه آنلاین دکتر سیم', 'usercontacts': ['09351101000']},\n",
       " {'username': 'تاپ سیم همراه',\n",
       "  'usercontacts': ['09125515515',\n",
       "   '09197700000',\n",
       "   '02144003973',\n",
       "   '09121409009',\n",
       "   '02166966903',\n",
       "   '09121408008']}]"
      ]
     },
     "execution_count": 13,
     "metadata": {},
     "output_type": "execute_result"
    }
   ],
   "source": []
  },
  {
   "cell_type": "code",
   "execution_count": 14,
   "id": "063c9ddf",
   "metadata": {},
   "outputs": [],
   "source": [
    "import pandas as pd"
   ]
  },
  {
   "cell_type": "code",
   "execution_count": 15,
   "id": "c0400e79",
   "metadata": {},
   "outputs": [
    {
     "data": {
      "text/html": [
       "<div>\n",
       "<style scoped>\n",
       "    .dataframe tbody tr th:only-of-type {\n",
       "        vertical-align: middle;\n",
       "    }\n",
       "\n",
       "    .dataframe tbody tr th {\n",
       "        vertical-align: top;\n",
       "    }\n",
       "\n",
       "    .dataframe thead th {\n",
       "        text-align: right;\n",
       "    }\n",
       "</style>\n",
       "<table border=\"1\" class=\"dataframe\">\n",
       "  <thead>\n",
       "    <tr style=\"text-align: right;\">\n",
       "      <th></th>\n",
       "      <th>username</th>\n",
       "      <th>usercontacts</th>\n",
       "    </tr>\n",
       "  </thead>\n",
       "  <tbody>\n",
       "    <tr>\n",
       "      <th>0</th>\n",
       "      <td>فروشگاه آنلاین دکتر سیم</td>\n",
       "      <td>[09351101000]</td>\n",
       "    </tr>\n",
       "    <tr>\n",
       "      <th>1</th>\n",
       "      <td>تاپ سیم همراه</td>\n",
       "      <td>[09125515515, 09197700000, 02144003973, 091214...</td>\n",
       "    </tr>\n",
       "  </tbody>\n",
       "</table>\n",
       "</div>"
      ],
      "text/plain": [
       "                  username                                       usercontacts\n",
       "0  فروشگاه آنلاین دکتر سیم                                      [09351101000]\n",
       "1            تاپ سیم همراه  [09125515515, 09197700000, 02144003973, 091214..."
      ]
     },
     "execution_count": 15,
     "metadata": {},
     "output_type": "execute_result"
    }
   ],
   "source": [
    "pd.DataFrame(database)"
   ]
  },
  {
   "cell_type": "code",
   "execution_count": null,
   "id": "ee9c9a26",
   "metadata": {},
   "outputs": [],
   "source": []
  }
 ],
 "metadata": {
  "kernelspec": {
   "display_name": "Python 3 (ipykernel)",
   "language": "python",
   "name": "python3"
  },
  "language_info": {
   "codemirror_mode": {
    "name": "ipython",
    "version": 3
   },
   "file_extension": ".py",
   "mimetype": "text/x-python",
   "name": "python",
   "nbconvert_exporter": "python",
   "pygments_lexer": "ipython3",
   "version": "3.9.13"
  }
 },
 "nbformat": 4,
 "nbformat_minor": 5
}
