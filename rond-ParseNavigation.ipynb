{
 "cells": [
  {
   "cell_type": "code",
   "execution_count": 3,
   "id": "400526b1-614b-46a7-b626-73559817edef",
   "metadata": {},
   "outputs": [],
   "source": [
    "from phonecollector import GET_UA,parse_url,get_link_list"
   ]
  },
  {
   "cell_type": "code",
   "execution_count": 14,
   "id": "1ab0c1b3-29fe-42f1-a508-579182ab8c81",
   "metadata": {},
   "outputs": [],
   "source": [
    "mainpage=\"https://www.rond.ir/SearchSim/\"\n",
    "baselink=\"https://www.rond.ir/SearchSim?page=\"\n",
    "epoch=100\n",
    "navpages=[]"
   ]
  },
  {
   "cell_type": "code",
   "execution_count": 23,
   "id": "22bdaf07-d4ce-4a04-b541-79b8c102733f",
   "metadata": {},
   "outputs": [],
   "source": [
    "navpages=[f\"{baselink}{i+1}\" for i in range(epoch)]"
   ]
  },
  {
   "cell_type": "code",
   "execution_count": 26,
   "id": "2b77e66e-f3cb-4a0a-8aa2-7d43196ec018",
   "metadata": {},
   "outputs": [],
   "source": [
    "sample=navpages[0]"
   ]
  },
  {
   "cell_type": "code",
   "execution_count": 28,
   "id": "db11e3d4-fe03-44fe-9f12-da6b06618f13",
   "metadata": {},
   "outputs": [
    {
     "name": "stdout",
     "output_type": "stream",
     "text": [
      "Fetching Data in 4 seconds\n",
      "Content successfully generated\n"
     ]
    }
   ],
   "source": [
    "listoflinks=get_link_list(sample)"
   ]
  },
  {
   "cell_type": "code",
   "execution_count": 1,
   "id": "50f5e58e-7e31-4a8c-bc1b-8ba2738957ce",
   "metadata": {},
   "outputs": [],
   "source": [
    "from phonecollector import rondirpage"
   ]
  },
  {
   "cell_type": "code",
   "execution_count": 4,
   "id": "c794b037-0eda-4428-9d48-10fd9444cbcb",
   "metadata": {},
   "outputs": [],
   "source": [
    "myp=rondirpage()"
   ]
  },
  {
   "cell_type": "code",
   "execution_count": null,
   "id": "9060d4ed-5b18-4cb1-991b-d4e5ec92603c",
   "metadata": {},
   "outputs": [],
   "source": [
    "myp."
   ]
  }
 ],
 "metadata": {
  "kernelspec": {
   "display_name": "Python 3 (ipykernel)",
   "language": "python",
   "name": "python3"
  },
  "language_info": {
   "codemirror_mode": {
    "name": "ipython",
    "version": 3
   },
   "file_extension": ".py",
   "mimetype": "text/x-python",
   "name": "python",
   "nbconvert_exporter": "python",
   "pygments_lexer": "ipython3",
   "version": "3.9.13"
  }
 },
 "nbformat": 4,
 "nbformat_minor": 5
}
