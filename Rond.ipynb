{
 "cells": [
  {
   "cell_type": "code",
   "execution_count": 4,
   "id": "564ff366-82ac-4a3b-ba8d-4fd89e79e44d",
   "metadata": {},
   "outputs": [],
   "source": [
    "import random\n",
    "import numpy\n",
    "import pandas\n",
    "import requests\n",
    "from bs4 import BeautifulSoup\n",
    "import lxml\n",
    "from lxml import etree\n",
    "import time"
   ]
  },
  {
   "cell_type": "code",
   "execution_count": 19,
   "id": "e76503eb-3cb7-4e95-b7b0-fffac92ad0a4",
   "metadata": {},
   "outputs": [],
   "source": [
    "### Setting of the scrapping project\n",
    "mainpage=\"https://www.rond.ir\"\n",
    "pagination=\"https://www.rond.ir/SearchSim/Irancell?page=\"\n",
    "lastpage=100"
   ]
  },
  {
   "cell_type": "code",
   "execution_count": 20,
   "id": "2c4512cf-8f28-4fff-aa81-23291baf1dc0",
   "metadata": {},
   "outputs": [],
   "source": [
    "### Setting of the Category page\n",
    "aclass=\"t-btn\"\n",
    "contactbuttonselector='a.t-btn'"
   ]
  },
  {
   "cell_type": "code",
   "execution_count": 21,
   "id": "cc70698e-c30b-4898-a25b-0741f27223e2",
   "metadata": {},
   "outputs": [],
   "source": [
    "### Setting of the contact page\n",
    "sellernameclass='sstd'\n",
    "nameselector='#layoutContent > div.t-page > div.grid_9.contactgrid > div.rtl.simInfo > table.stable>tr>td.sstd'\n",
    "phoneclass='td.ltr'"
   ]
  },
  {
   "cell_type": "code",
   "execution_count": 3,
   "id": "1322cc53-4bd8-4963-82e2-b35f55ec206e",
   "metadata": {},
   "outputs": [],
   "source": [
    "def GET_UA():\n",
    "    uastrings = [\"Mozilla/5.0 (Windows NT 6.1; WOW64) AppleWebKit/537.36 (KHTML, like Gecko) Chrome/38.0.2125.111 Safari/537.36\",\n",
    "                 \"Mozilla/5.0 (Windows NT 6.1; WOW64) AppleWebKit/537.36 (KHTML, like Gecko) Chrome/28.0.1500.72 Safari/537.36\",\n",
    "                 \"Mozilla/5.0 (Macintosh; Intel Mac OS X 10_10) AppleWebKit/600.1.25 (KHTML, like Gecko) Version/8.0 Safari/600.1.25\",\n",
    "                 \"Mozilla/5.0 (Windows NT 6.1; WOW64; rv:33.0) Gecko/20100101 Firefox/33.0\",\n",
    "                 \"Mozilla/5.0 (Windows NT 6.3; WOW64) AppleWebKit/537.36 (KHTML, like Gecko) Chrome/38.0.2125.111 Safari/537.36\",\n",
    "                 \"Mozilla/5.0 (Macintosh; Intel Mac OS X 10_10_0) AppleWebKit/537.36 (KHTML, like Gecko) Chrome/38.0.2125.111 Safari/537.36\",\n",
    "                 \"Mozilla/5.0 (Macintosh; Intel Mac OS X 10_9_5) AppleWebKit/600.1.17 (KHTML, like Gecko) Version/7.1 Safari/537.85.10\",\n",
    "                 \"Mozilla/5.0 (Windows NT 6.1; WOW64; Trident/7.0; rv:11.0) like Gecko\",\n",
    "                 \"Mozilla/5.0 (Windows NT 6.3; WOW64; rv:33.0) Gecko/20100101 Firefox/33.0\",\n",
    "                 \"Mozilla/5.0 (Windows NT 6.1; WOW64) AppleWebKit/537.36 (KHTML, like Gecko) Chrome/38.0.2125.104 Safari/537.36\"]\n",
    "    return random.choice(uastrings)"
   ]
  },
  {
   "cell_type": "markdown",
   "id": "88cc2317",
   "metadata": {},
   "source": [
    "### Test single product page"
   ]
  },
  {
   "cell_type": "code",
   "execution_count": 13,
   "id": "03e462a7-8e80-4b8e-978b-14330e955b27",
   "metadata": {},
   "outputs": [],
   "source": [
    "samplepage=\"https://www.rond.ir/Sims/09392708090?id=14507\""
   ]
  },
  {
   "cell_type": "code",
   "execution_count": 14,
   "id": "0dba9009-981c-435f-a0ba-9115cc0af576",
   "metadata": {},
   "outputs": [],
   "source": [
    "delay=3"
   ]
  },
  {
   "cell_type": "code",
   "execution_count": 15,
   "id": "d3d1ad5e-b0a0-4fc8-8265-02d81f626d0d",
   "metadata": {},
   "outputs": [],
   "source": [
    "def parse_url(url):\n",
    "    print(f'Fetching Data in {delay} seconds')\n",
    "    time.sleep(delay)\n",
    "    headers = {'User-Agent': GET_UA()}\n",
    "    content = None\n",
    "    try:\n",
    "        response = requests.get(url, headers=headers)\n",
    "        ct = response.headers['Content-Type'].lower().strip()\n",
    "        if 'text/html' in ct:\n",
    "            content = response.content\n",
    "            soup = BeautifulSoup(content, \"lxml\")\n",
    "        else:\n",
    "            content = response.content\n",
    "            soup = None\n",
    " \n",
    "    except Exception as e:\n",
    "        print(f'Error:, {str(e)}')\n",
    "    print('Content successfully generated')\n",
    "    return soup"
   ]
  },
  {
   "cell_type": "code",
   "execution_count": 16,
   "id": "60fb92e8-fe85-4d6d-9e85-6672b3225737",
   "metadata": {},
   "outputs": [
    {
     "name": "stdout",
     "output_type": "stream",
     "text": [
      "Fetching Data in 3 seconds\n",
      "Content successfully generated\n"
     ]
    }
   ],
   "source": [
    "samplecontent=parse_url(samplepage)"
   ]
  },
  {
   "cell_type": "code",
   "execution_count": 26,
   "id": "5b5d665a-d459-4f43-8605-0db063763f27",
   "metadata": {},
   "outputs": [],
   "source": [
    "name=samplecontent.css.select_one(nameselector).text.strip()"
   ]
  },
  {
   "cell_type": "code",
   "execution_count": 27,
   "id": "e7907ca4-03a5-4956-ad0b-b59fa25ce634",
   "metadata": {},
   "outputs": [
    {
     "data": {
      "text/plain": [
       "'ایمان همراه'"
      ]
     },
     "execution_count": 27,
     "metadata": {},
     "output_type": "execute_result"
    }
   ],
   "source": [
    "name"
   ]
  },
  {
   "cell_type": "code",
   "execution_count": 28,
   "id": "28a1ee02-d2e7-4236-a44d-715daa29bb34",
   "metadata": {},
   "outputs": [],
   "source": [
    "phones=samplecontent.css.select(phoneclass)"
   ]
  },
  {
   "cell_type": "code",
   "execution_count": 36,
   "id": "d92f8db6",
   "metadata": {},
   "outputs": [],
   "source": [
    "number1=phones[0].string.strip()"
   ]
  },
  {
   "cell_type": "code",
   "execution_count": 40,
   "id": "00c5cfd6",
   "metadata": {},
   "outputs": [
    {
     "data": {
      "text/plain": [
       "'01732122222'"
      ]
     },
     "execution_count": 40,
     "metadata": {},
     "output_type": "execute_result"
    }
   ],
   "source": [
    "number1.replace(\" \",\"\")"
   ]
  },
  {
   "cell_type": "code",
   "execution_count": 41,
   "id": "6c6fcd33-aaeb-42d3-a1fc-42420d348f27",
   "metadata": {},
   "outputs": [
    {
     "data": {
      "text/plain": [
       "['01732122222', '09104200040', '09114200040', '09904200040']"
      ]
     },
     "execution_count": 41,
     "metadata": {},
     "output_type": "execute_result"
    }
   ],
   "source": [
    "phone_numbers=[]\n",
    "for phone in phones:\n",
    "    if len(phone.string.strip())>1:\n",
    "        phone_numbers.append(phone.string.replace(\" \", \"\").strip())\n",
    "phone_numbers"
   ]
  },
  {
   "cell_type": "code",
   "execution_count": 42,
   "id": "eb57e860-cf4d-4acf-b26c-e5a478e846dd",
   "metadata": {},
   "outputs": [],
   "source": [
    "userinfo=dict(username=name,usercontacts=phone_numbers)"
   ]
  },
  {
   "cell_type": "code",
   "execution_count": 43,
   "id": "413a7377-9170-4e03-b473-323be96352f5",
   "metadata": {},
   "outputs": [
    {
     "data": {
      "text/plain": [
       "{'username': 'ایمان همراه',\n",
       " 'usercontacts': ['01732122222', '09104200040', '09114200040', '09904200040']}"
      ]
     },
     "execution_count": 43,
     "metadata": {},
     "output_type": "execute_result"
    }
   ],
   "source": [
    "userinfo"
   ]
  },
  {
   "cell_type": "markdown",
   "id": "edad934a-7757-414e-b1f4-b5ba060cab52",
   "metadata": {},
   "source": [
    "# Convert it to a function"
   ]
  },
  {
   "cell_type": "code",
   "execution_count": 177,
   "id": "8764924c-67d9-4b2f-9bf1-6ceb73715519",
   "metadata": {},
   "outputs": [],
   "source": [
    "def scrap_info_page(url):\n",
    "    soup=parse_url(url)\n",
    "    name=soup.css.select_one(nameselector).text.strip()\n",
    "    phones=soup.css.select(phoneclass)\n",
    "    phone_numbers=[]\n",
    "    for phone in phones:\n",
    "        if len(phone.string.strip())>1:\n",
    "            phone_numbers.append(phone.string.replace(\" \", \"\").strip())\n",
    "    userinfo=dict(username=name,usercontacts=phone_numbers)\n",
    "    return userinfo"
   ]
  },
  {
   "cell_type": "markdown",
   "id": "6b3f202a-23d0-410d-a48a-4d0b92879095",
   "metadata": {},
   "source": [
    "## test function:"
   ]
  },
  {
   "cell_type": "code",
   "execution_count": 178,
   "id": "90032e6b-3292-4872-ad22-02df3d779a05",
   "metadata": {},
   "outputs": [],
   "source": [
    "url=\"https://www.rond.ir/Sims/09399923999?id=14507\""
   ]
  },
  {
   "cell_type": "code",
   "execution_count": 179,
   "id": "fa331338-9a33-42e3-abb6-12d0e6590390",
   "metadata": {},
   "outputs": [
    {
     "name": "stdout",
     "output_type": "stream",
     "text": [
      "Fetching Data in 3 seconds\n",
      "Content successfully generated\n"
     ]
    },
    {
     "data": {
      "text/plain": [
       "{'username': 'ایمان همراه',\n",
       " 'usercontacts': ['01732122222', '09104200040', '09114200040', '09904200040']}"
      ]
     },
     "execution_count": 179,
     "metadata": {},
     "output_type": "execute_result"
    }
   ],
   "source": [
    "scrap_info_page(url)"
   ]
  },
  {
   "cell_type": "markdown",
   "id": "3f71edee-ad6e-4644-9aca-6515d493be65",
   "metadata": {},
   "source": [
    "## create a class for rond.ir"
   ]
  },
  {
   "cell_type": "code",
   "execution_count": 186,
   "id": "d53c2082-991c-4420-b2b5-ae07a954feb9",
   "metadata": {},
   "outputs": [],
   "source": [
    "class rondirpage:\n",
    "    def __init__(self):\n",
    "        self.nameselector='#layoutContent > div.t-page > div.grid_9.contactgrid > div.rtl.simInfo > table.stable>tr>td.sstd'\n",
    "        self.phoneclass = 'td.ltr'\n",
    "        self.url=\"\"\n",
    "        \n",
    "    def get_nameselector(self):\n",
    "        return self.nameselector\n",
    "\n",
    "    def set_nameselector(self, newselector):\n",
    "        self.nameselector = newselector\n",
    "\n",
    "    def get_phoneclass(self):\n",
    "        return self.phoneclass\n",
    "\n",
    "    def set_phoneclass(self, newphoneclass):\n",
    "        self.phoneclass = newphoneclass\n",
    "   \n",
    "    def set_url(self):\n",
    "        self.url = input('please enter your url')\n",
    "\n",
    "    def getpageinfo(self):\n",
    "        if self.url==\"\":\n",
    "            print('| URL is not ste |')\n",
    "        else:\n",
    "            pageinfo=scrap_info_page(self.url)\n",
    "            return pageinfo"
   ]
  },
  {
   "cell_type": "code",
   "execution_count": 187,
   "id": "50c82d11-7548-478f-9513-6b1b995f6e8a",
   "metadata": {},
   "outputs": [],
   "source": [
    "page1=rondirpage()"
   ]
  },
  {
   "cell_type": "code",
   "execution_count": 188,
   "id": "42b193c4-11b8-4157-b416-4d1da0a71ddc",
   "metadata": {},
   "outputs": [
    {
     "name": "stdout",
     "output_type": "stream",
     "text": [
      "| URL is not ste |\n"
     ]
    }
   ],
   "source": [
    "page1.getpageinfo()"
   ]
  },
  {
   "cell_type": "code",
   "execution_count": 189,
   "id": "2320af5d-7603-4412-a19e-eceb76388651",
   "metadata": {},
   "outputs": [
    {
     "name": "stdin",
     "output_type": "stream",
     "text": [
      "please enter your url https://www.rond.ir/SearchSim/Irancell?page=3\n"
     ]
    }
   ],
   "source": [
    "page1.set_url()"
   ]
  },
  {
   "cell_type": "code",
   "execution_count": 190,
   "id": "2744f67d-e405-4b95-ba10-80b8483583a4",
   "metadata": {},
   "outputs": [
    {
     "name": "stdout",
     "output_type": "stream",
     "text": [
      "Fetching Data in 3 seconds\n",
      "Content successfully generated\n"
     ]
    },
    {
     "ename": "AttributeError",
     "evalue": "'NoneType' object has no attribute 'text'",
     "output_type": "error",
     "traceback": [
      "\u001b[1;31m---------------------------------------------------------------------------\u001b[0m",
      "\u001b[1;31mAttributeError\u001b[0m                            Traceback (most recent call last)",
      "\u001b[1;32m~\\AppData\\Local\\Temp\\ipykernel_16340\\33243597.py\u001b[0m in \u001b[0;36m<module>\u001b[1;34m\u001b[0m\n\u001b[1;32m----> 1\u001b[1;33m \u001b[0mpage1\u001b[0m\u001b[1;33m.\u001b[0m\u001b[0mgetpageinfo\u001b[0m\u001b[1;33m(\u001b[0m\u001b[1;33m)\u001b[0m\u001b[1;33m\u001b[0m\u001b[1;33m\u001b[0m\u001b[0m\n\u001b[0m",
      "\u001b[1;32m~\\AppData\\Local\\Temp\\ipykernel_16340\\1297780914.py\u001b[0m in \u001b[0;36mgetpageinfo\u001b[1;34m(self)\u001b[0m\n\u001b[0;32m     24\u001b[0m             \u001b[0mprint\u001b[0m\u001b[1;33m(\u001b[0m\u001b[1;34m'| URL is not ste |'\u001b[0m\u001b[1;33m)\u001b[0m\u001b[1;33m\u001b[0m\u001b[1;33m\u001b[0m\u001b[0m\n\u001b[0;32m     25\u001b[0m         \u001b[1;32melse\u001b[0m\u001b[1;33m:\u001b[0m\u001b[1;33m\u001b[0m\u001b[1;33m\u001b[0m\u001b[0m\n\u001b[1;32m---> 26\u001b[1;33m             \u001b[0mpageinfo\u001b[0m\u001b[1;33m=\u001b[0m\u001b[0mscrap_info_page\u001b[0m\u001b[1;33m(\u001b[0m\u001b[0mself\u001b[0m\u001b[1;33m.\u001b[0m\u001b[0murl\u001b[0m\u001b[1;33m)\u001b[0m\u001b[1;33m\u001b[0m\u001b[1;33m\u001b[0m\u001b[0m\n\u001b[0m\u001b[0;32m     27\u001b[0m             \u001b[1;32mreturn\u001b[0m \u001b[0mpageinfo\u001b[0m\u001b[1;33m\u001b[0m\u001b[1;33m\u001b[0m\u001b[0m\n",
      "\u001b[1;32m~\\AppData\\Local\\Temp\\ipykernel_16340\\4182292417.py\u001b[0m in \u001b[0;36mscrap_info_page\u001b[1;34m(url)\u001b[0m\n\u001b[0;32m      1\u001b[0m \u001b[1;32mdef\u001b[0m \u001b[0mscrap_info_page\u001b[0m\u001b[1;33m(\u001b[0m\u001b[0murl\u001b[0m\u001b[1;33m)\u001b[0m\u001b[1;33m:\u001b[0m\u001b[1;33m\u001b[0m\u001b[1;33m\u001b[0m\u001b[0m\n\u001b[0;32m      2\u001b[0m     \u001b[0msoup\u001b[0m\u001b[1;33m=\u001b[0m\u001b[0mparse_url\u001b[0m\u001b[1;33m(\u001b[0m\u001b[0murl\u001b[0m\u001b[1;33m)\u001b[0m\u001b[1;33m\u001b[0m\u001b[1;33m\u001b[0m\u001b[0m\n\u001b[1;32m----> 3\u001b[1;33m     \u001b[0mname\u001b[0m\u001b[1;33m=\u001b[0m\u001b[0msoup\u001b[0m\u001b[1;33m.\u001b[0m\u001b[0mcss\u001b[0m\u001b[1;33m.\u001b[0m\u001b[0mselect_one\u001b[0m\u001b[1;33m(\u001b[0m\u001b[0mnameselector\u001b[0m\u001b[1;33m)\u001b[0m\u001b[1;33m.\u001b[0m\u001b[0mtext\u001b[0m\u001b[1;33m.\u001b[0m\u001b[0mstrip\u001b[0m\u001b[1;33m(\u001b[0m\u001b[1;33m)\u001b[0m\u001b[1;33m\u001b[0m\u001b[1;33m\u001b[0m\u001b[0m\n\u001b[0m\u001b[0;32m      4\u001b[0m     \u001b[0mphones\u001b[0m\u001b[1;33m=\u001b[0m\u001b[0msoup\u001b[0m\u001b[1;33m.\u001b[0m\u001b[0mcss\u001b[0m\u001b[1;33m.\u001b[0m\u001b[0mselect\u001b[0m\u001b[1;33m(\u001b[0m\u001b[0mphoneclass\u001b[0m\u001b[1;33m)\u001b[0m\u001b[1;33m\u001b[0m\u001b[1;33m\u001b[0m\u001b[0m\n\u001b[0;32m      5\u001b[0m     \u001b[0mphone_numbers\u001b[0m\u001b[1;33m=\u001b[0m\u001b[1;33m[\u001b[0m\u001b[1;33m]\u001b[0m\u001b[1;33m\u001b[0m\u001b[1;33m\u001b[0m\u001b[0m\n",
      "\u001b[1;31mAttributeError\u001b[0m: 'NoneType' object has no attribute 'text'"
     ]
    }
   ],
   "source": [
    "page1.getpageinfo()"
   ]
  },
  {
   "cell_type": "code",
   "execution_count": null,
   "id": "1a41ca55-6005-4790-9c8c-cebdca3555f9",
   "metadata": {},
   "outputs": [],
   "source": [
    "contactlinks=soup.css.sele"
   ]
  }
 ],
 "metadata": {
  "kernelspec": {
   "display_name": "Python 3 (ipykernel)",
   "language": "python",
   "name": "python3"
  },
  "language_info": {
   "codemirror_mode": {
    "name": "ipython",
    "version": 3
   },
   "file_extension": ".py",
   "mimetype": "text/x-python",
   "name": "python",
   "nbconvert_exporter": "python",
   "pygments_lexer": "ipython3",
   "version": "3.9.13"
  }
 },
 "nbformat": 4,
 "nbformat_minor": 5
}
