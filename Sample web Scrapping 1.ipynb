{
 "cells": [
  {
   "cell_type": "code",
   "execution_count": 10,
   "id": "45303a05",
   "metadata": {},
   "outputs": [],
   "source": [
    "#get the URL from user as \"target\"\n",
    "#send a request to \"target\"\n",
    "#check if the response code is 200\n",
    "#print a message that the url is working properly\n",
    "#get the content of the 'target' URL\n",
    "#channge the content into beautifulsoup object as mainsoup\n",
    "#find the table object with class=\"ftable\" in the mainsoup\n",
    "#print : \"Table successfully found\"\n",
    "#create a list of all <tr> tags with class=datatr as xtr\n",
    "#loop inside xtr and find all <td> objects with calss='td'\n",
    "#create a list of text inside this loop as \"headers\"\n",
    "#loop inside xtr and find all second<td> objects\n",
    "#create a list of text inside this loop as \"valuse\"\n",
    "#create a Dataframe with \"headers\" as index and \"valuse\" as value\n",
    "#show the Dataframe"
   ]
  },
  {
   "cell_type": "code",
   "execution_count": 9,
   "id": "7eacbab2",
   "metadata": {},
   "outputs": [
    {
     "name": "stdout",
     "output_type": "stream",
     "text": [
      "Enter a URL: www.irancell.com\n"
     ]
    }
   ],
   "source": [
    "import requests\n",
    "import os\n",
    "\n",
    "def get_url_from_user():\n",
    "  \"\"\"Gets a URL from the user.\"\"\"\n",
    "  while True:\n",
    "    url = input(\"Enter a URL: \")\n",
    "    try:\n",
    "      # The following line adds the http:// schema to the URL if it is missing.\n",
    "      url = f\"http://{url}\" if not url.startswith(\"http://\") else url\n",
    "      requests.get(url)\n",
    "      break\n",
    "    except requests.exceptions.InvalidURL:\n",
    "      print(f\"Invalid URL '{url}': No scheme supplied. Perhaps you meant {url}://?\")\n",
    "  return url\n",
    "\n",
    "def send_request_and_get_headers(url):\n",
    "  \"\"\"Sends a request for the specified URL and gets the headers.\"\"\"\n",
    "  response = requests.get(url)\n",
    "  headers = response.headers\n",
    "  return headers\n",
    "\n",
    "def save_headers_to_txt_file(headers):\n",
    "  \"\"\"Saves the headers to a TXT file on the desktop.\"\"\"\n",
    "  filename = \"headers.txt\"\n",
    "  file_path = os.path.join(os.path.expanduser(\"~\"), \"Desktop\", filename)\n",
    "  with open(file_path, \"w\") as file:\n",
    "    for header, value in headers.items():\n",
    "      file.write(f\"{header}: {value}\\n\")\n",
    "\n",
    "def main():\n",
    "  \"\"\"The main function.\"\"\"\n",
    "  url = get_url_from_user()\n",
    "  headers = send_request_and_get_headers(url)\n",
    "  save_headers_to_txt_file(headers)\n",
    "\n",
    "if __name__ == \"__main__\":\n",
    "  main()"
   ]
  },
  {
   "cell_type": "code",
   "execution_count": 135,
   "id": "a4facc1f",
   "metadata": {},
   "outputs": [],
   "source": [
    "import pandas as pd\n",
    "import numpy as np\n",
    "import requests\n",
    "import lxml\n",
    "from bs4 import BeautifulSoup"
   ]
  },
  {
   "cell_type": "code",
   "execution_count": 136,
   "id": "63fc5b5c",
   "metadata": {},
   "outputs": [],
   "source": [
    "#\"\"\"Gets the URL from the user.\"\"\"\n",
    "\n",
    "\n",
    "def get_url_from_user():\n",
    "  url = input(\"Enter a URL: \")\n",
    "  return url"
   ]
  },
  {
   "cell_type": "code",
   "execution_count": 137,
   "id": "21a29854",
   "metadata": {},
   "outputs": [],
   "source": [
    "#\"\"\"Sends a request to the specified URL and checks the response code.\"\"\"\n",
    "\n",
    "def send_request_and_check_response_code(url):\n",
    "    response = requests.get(url)\n",
    "    if response.status_code == 200:\n",
    "        print(f\"The URL '{url}' is working properly.\")\n",
    "    else:\n",
    "        print(f\"The URL '{url}' is not working properly. Code: {response.status_code}\")"
   ]
  },
  {
   "cell_type": "code",
   "execution_count": 138,
   "id": "653b02a2",
   "metadata": {},
   "outputs": [],
   "source": [
    "def get_content_from_url(url):\n",
    "    response = requests.get(url)\n",
    "    content = response.content\n",
    "    soup=BeautifulSoup(content,\"lxml\")\n",
    "    return content"
   ]
  },
  {
   "cell_type": "code",
   "execution_count": 139,
   "id": "051c7f0e",
   "metadata": {},
   "outputs": [],
   "source": [
    "#\"\"\"Gets the table from the BeautifulSoup object.\"\"\"\n",
    "\n",
    "def get_table_from_soup(soup):\n",
    "    table = soup.find(\"table\", class_=\"ftable\")\n",
    "    return table\n"
   ]
  },
  {
   "cell_type": "code",
   "execution_count": 140,
   "id": "11a39829",
   "metadata": {},
   "outputs": [],
   "source": [
    "#\"\"\"Gets the headers from the table.\"\"\"\n",
    "\n",
    "def get_headers_from_table(table):\n",
    "    headers = []\n",
    "    for row in table.find_all(\"tr\", class_=\"datatr\"):\n",
    "        headers.append([td.text for td in row.find_all(\"td\", class_=\"td\")])\n",
    "        headerframe=pd.DataFrame(headers)\n",
    "    headerframe[0]=headerframe[0].apply(lambda x:x.strip())\n",
    "    headerframe[0]\n",
    "    return headerframe[0]"
   ]
  },
  {
   "cell_type": "code",
   "execution_count": 141,
   "id": "0c2fa162",
   "metadata": {},
   "outputs": [],
   "source": [
    "#\"\"\"Gets the values from the table.\"\"\"\n",
    "\n",
    "def get_values_from_table(table):\n",
    "    values = []\n",
    "    for row in table.find_all(\"tr\", class_=\"datatr\"):\n",
    "        values.append([td.text for td in row.find_all(\"td\")[1]])\n",
    "        valuframe=pd.DataFrame(values)\n",
    "    valuframe[0]=valuframe[0].apply(lambda x:x.strip())\n",
    "    valuframe[0]\n",
    "    return valuframe[0]"
   ]
  },
  {
   "cell_type": "code",
   "execution_count": 142,
   "id": "03aaf325",
   "metadata": {},
   "outputs": [],
   "source": [
    "#\"\"\"Creates a DataFrame from the headers and values.\"\"\"\n",
    "\n",
    "def create_dataframe(values):\n",
    "    dataframe = pd.DataFrame(values)\n",
    "    dataframe.index=headers\n",
    "    return dataframe"
   ]
  },
  {
   "cell_type": "code",
   "execution_count": 143,
   "id": "00b02311",
   "metadata": {},
   "outputs": [],
   "source": [
    "\n",
    "\n",
    "#\"\"\"Shows the DataFrame.\"\"\"\n",
    "\n",
    "def show_dataframe(dataframe):\n",
    "    return dataframe"
   ]
  },
  {
   "cell_type": "code",
   "execution_count": 144,
   "id": "da3cd5dc",
   "metadata": {},
   "outputs": [],
   "source": [
    "def readdata():\n",
    "    \"\"\"The main function.\"\"\"\n",
    "    url = get_url_from_user()\n",
    "    send_request_and_check_response_code(url)\n",
    "    content = get_content_from_url(url)\n",
    "    soup = BeautifulSoup(content, \"html.parser\")\n",
    "    table = get_table_from_soup(soup)\n",
    "    headers = get_headers_from_table(table)\n",
    "    values = get_values_from_table(table)\n",
    "    dataframe = create_dataframe(values)\n",
    "    show_dataframe(dataframe)\n",
    "    return dataframe"
   ]
  },
  {
   "cell_type": "raw",
   "id": "ed12d694",
   "metadata": {},
   "source": [
    "1-Get a Beautifulsoup object as \"mainsoup\"\n",
    "2- in mainsoup find a <td> with class=sstd and make a variable as \"suppliername\" with the text inside this td\n",
    "3-find the first table with class=\"margin-bottom-5\" as 'contact_table'\n",
    "4-fidn the second table with class=class=\"margin-bottom-5\" as 'adress_table\n",
    "in 'contact_table' find all the <td> tags with class='ltr' and make a list including only trimmed texts inside them \n",
    "5-from 'adress_table' find the <tr> with class=datatr eventr and inside this <tr> find the 3rd <td> and make a variable caled 'suppadress' indluding the text inside this td "
   ]
  },
  {
   "cell_type": "code",
   "execution_count": 223,
   "id": "ccb3197a",
   "metadata": {},
   "outputs": [],
   "source": [
    "def get_url_from_user():\n",
    "  \"\"\"Gets the URL from the user.\"\"\"\n",
    "  url = input(\"Enter a URL: \")\n",
    "  return url\n",
    "\n",
    "def send_request_and_get_soup(url):\n",
    "  \"\"\"Sends a request to the specified URL and returns a BeautifulSoup object.\"\"\"\n",
    "  response = requests.get(url)\n",
    "  content = response.content\n",
    "  soup = BeautifulSoup(content, \"html.parser\")\n",
    "  return soup\n",
    "\n",
    "def get_suppliername(soup):\n",
    "  \"\"\"Gets the supplier name from the BeautifulSoup object.\"\"\"\n",
    "  suppliername = soup.find(\"td\", class_=\"sstd\").text\n",
    "  return suppliername\n",
    "\n",
    "def get_contact_table(soup):\n",
    "  \"\"\"Gets the contact table from the BeautifulSoup object.\"\"\"\n",
    "  contact_table = soup.find(\"table\", class_=\"margin-bottom-5\")\n",
    "  return contact_table\n",
    "\n",
    "def get_address_table(soup):\n",
    "  \"\"\"Gets the address table from the BeautifulSoup object.\"\"\"\n",
    "  address_table = soup.find_all(\"table\", class_=\"margin-bottom-5\")\n",
    "  return address_table[1]\n",
    "\n",
    "def get_contact_info(contact_table):\n",
    "  \"\"\"Gets the contact information from the contact table.\"\"\"\n",
    "  contact_info = []\n",
    "  contacts=[c.text.strip() for c in contact_table.find_all('td',class_='ltr')]\n",
    "  return contacts\n",
    "\n",
    "def get_supplier_address(address_table):\n",
    "  \"\"\"Gets the supplier address from the address table.\"\"\"\n",
    "  supplier_address = address_table.find(\"tr\", class_=\"datatr eventr\").find_all(\"td\")[2].text\n",
    "  return supplier_address\n"
   ]
  },
  {
   "cell_type": "code",
   "execution_count": 238,
   "id": "e57467df",
   "metadata": {},
   "outputs": [],
   "source": [
    "def main():\n",
    "  \"\"\"The main function.\"\"\"\n",
    "  dic={}\n",
    "  url = get_url_from_user()\n",
    "  soup = send_request_and_get_soup(url)\n",
    "  suppliername = get_suppliername(soup)\n",
    "  contact_table = get_contact_table(soup)\n",
    "  address_table = get_address_table(soup)\n",
    "  contact_info = get_contact_info(contact_table)\n",
    "  supplier_address = get_supplier_address(address_table)\n",
    "  print(f\"Supplier Name: {suppliername}\")\n",
    "  print(f\"Contact Info: {contact_info}\")\n",
    "  print(f\"Supplier Address: {supplier_address}\")"
   ]
  },
  {
   "cell_type": "code",
   "execution_count": 243,
   "id": "bc06b906",
   "metadata": {},
   "outputs": [],
   "source": [
    "target=\"https://www.rond.ir/Sims/09123900879?id=67585\""
   ]
  },
  {
   "cell_type": "code",
   "execution_count": 244,
   "id": "d7bd6270",
   "metadata": {},
   "outputs": [
    {
     "name": "stdout",
     "output_type": "stream",
     "text": [
      "Enter a URL: https://www.rond.ir/Sims/09123900879?id=67585\n",
      "Supplier Name: \n",
      "                موبایل قائم خرید و فروش سیم کارت\n",
      "            \n",
      "Contact Info: ['02165100020', '09122666066', '02165100040', '09126672925', '02165595616', '09101300700']\n",
      "Supplier Address: \n",
      " تهران رسالت خ هنگام میدان الغدیر دفتر پیشخوان دولت_   کرج مارلیک میدان گلها مجتمع تجاری گلها پ132 امورمشترکین قائم                \n",
      "            \n"
     ]
    }
   ],
   "source": [
    "main()"
   ]
  },
  {
   "cell_type": "markdown",
   "id": "c8c71850",
   "metadata": {},
   "source": [
    "# generate the final info"
   ]
  },
  {
   "cell_type": "code",
   "execution_count": 235,
   "id": "dda1a20e",
   "metadata": {},
   "outputs": [],
   "source": [
    "def convert_dict_to_dataframe(datadic):\n",
    "  \"\"\"Converts a dictionary with 4 key-value pairs per object into a DataFrame.\"\"\"\n",
    "  dataframe = pd.DataFrame(datadic.values(),index=datadic.keys())\n",
    "  return dataframe\n"
   ]
  },
  {
   "cell_type": "code",
   "execution_count": 237,
   "id": "53a8ea41",
   "metadata": {},
   "outputs": [
    {
     "name": "stdout",
     "output_type": "stream",
     "text": [
      "Enter a URL: https://www.rond.ir/Sims/09122081000?id=187268\n",
      "                                                         0\n",
      "url         https://www.rond.ir/Sims/09122081000?id=187268\n",
      "Name                                            Vip Hamrah\n",
      "contacts   [021 22000 737, 09021110100, , 09123300004, , ]\n",
      "address   تجریش - پاساژ قائم - ط پنجم - فروشگاه قائم همراه\n"
     ]
    }
   ],
   "source": [
    "\n",
    "def main():\n",
    "  \"\"\"The main function.\"\"\"\n",
    "  dic={}\n",
    "  url = get_url_from_user()\n",
    "  soup = send_request_and_get_soup(url)\n",
    "  suppliername = get_suppliername(soup)\n",
    "  contact_table = get_contact_table(soup)\n",
    "  address_table = get_address_table(soup)\n",
    "  contact_info = get_contact_info(contact_table)\n",
    "  supplier_address = get_supplier_address(address_table)\n",
    "  #print(f\"Supplier Name: {suppliername}\")\n",
    "  #print(f\"Contact Info: {contact_info}\")\n",
    "  #print(f\"Supplier Address: {supplier_address}\")\n",
    "  dic['url']=url\n",
    "  dic['Name']=suppliername.strip()\n",
    "  dic['contacts']=contact_info\n",
    "  dic['address']=supplier_address.strip()\n",
    "  dic=convert_dict_to_dataframe(dic)\n",
    "  print(dic)\n",
    "if __name__ == \"__main__\":\n",
    "  main()"
   ]
  },
  {
   "cell_type": "code",
   "execution_count": null,
   "id": "283b80e5",
   "metadata": {},
   "outputs": [],
   "source": []
  }
 ],
 "metadata": {
  "kernelspec": {
   "display_name": "Python 3 (ipykernel)",
   "language": "python",
   "name": "python3"
  },
  "language_info": {
   "codemirror_mode": {
    "name": "ipython",
    "version": 3
   },
   "file_extension": ".py",
   "mimetype": "text/x-python",
   "name": "python",
   "nbconvert_exporter": "python",
   "pygments_lexer": "ipython3",
   "version": "3.9.13"
  }
 },
 "nbformat": 4,
 "nbformat_minor": 5
}
