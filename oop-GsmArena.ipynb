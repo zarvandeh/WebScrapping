{
 "cells": [
  {
   "cell_type": "code",
   "execution_count": 2,
   "id": "cea616fe",
   "metadata": {},
   "outputs": [],
   "source": [
    "import mobilescraper as ms"
   ]
  },
  {
   "cell_type": "code",
   "execution_count": 147,
   "id": "eec20b21",
   "metadata": {},
   "outputs": [],
   "source": [
    "class productpage:\n",
    "    def __init__(self,URL):\n",
    "        self.url=URL\n",
    "        self.soup=ms.parse_url(self.url,2)\n",
    "        self.name=self.soup.css.select_one('#body > div > div.review-header > div > div.article-info-line.page-specs.light.border-bottom > h1').text\n",
    "    def getdata(self):\n",
    "        keys=[i.text for i in self.soup.css.select_one('div#specs-list').css.select('td.ttl')]\n",
    "        values=[i.text for i in self.soup.css.select_one('div#specs-list').css.select('td.nfo')]\n",
    "        information=dict(zip(keys,values))\n",
    "        information['name']=self.name\n",
    "        return information"
   ]
  },
  {
   "cell_type": "code",
   "execution_count": 148,
   "id": "958edf53",
   "metadata": {},
   "outputs": [],
   "source": [
    "class brand:\n",
    "    baseurl='https://www.gsmarena.com/'\n",
    "    productpages=0\n",
    "\n",
    "    def __init__(self,URL):\n",
    "        self.url=URL\n",
    "        self.soup=ms.parse_url(self.url,2)\n",
    "        self.navigationlist=[self.baseurl+i['href'] for i in self.soup.css.select('div.nav-pages>a')]\n",
    "        brand.productpages+=len(self.navigationlist)\n",
    "        self.count=len(self.navigationlist)\n"
   ]
  },
  {
   "cell_type": "code",
   "execution_count": 149,
   "id": "1e22b191",
   "metadata": {},
   "outputs": [],
   "source": [
    "class productList:\n",
    "    def __init__(self,URL):\n",
    "        self.url=URL\n",
    "        self.soup=ms.parse_url(self.url,2)\n",
    "        self.productlist=[brand.baseurl+i['href'] for i in self.soup.css.select('#review-body > div.makers > ul > li > a')]\n",
    "        "
   ]
  },
  {
   "cell_type": "markdown",
   "id": "296d5b33",
   "metadata": {},
   "source": [
    "# -------------------------------------------------------"
   ]
  },
  {
   "cell_type": "code",
   "execution_count": 159,
   "id": "f31332fd",
   "metadata": {},
   "outputs": [],
   "source": [
    "def scrapbrand(URL):\n",
    "    brandpage=brand(URL)\n",
    "    prlist=[]\n",
    "    for url in brandpage.navigationlist:\n",
    "        prl=productList(url)\n",
    "        prlist.extend(prl.productlist)\n",
    "    database=[]\n",
    "    for url in prlist:\n",
    "        prdata=productpage(url).getdata()\n",
    "        database.append(prdata)\n",
    "    return database"
   ]
  },
  {
   "cell_type": "code",
   "execution_count": 161,
   "id": "39f2bc43",
   "metadata": {},
   "outputs": [
    {
     "name": "stdout",
     "output_type": "stream",
     "text": [
      "Fetching Data in 2 seconds\n",
      "Fetching Data in 2 seconds\n",
      "Fetching Data in 2 seconds\n",
      "Fetching Data in 2 seconds\n",
      "Fetching Data in 2 seconds\n",
      "Fetching Data in 2 seconds\n",
      "Fetching Data in 2 seconds\n",
      "Fetching Data in 2 seconds\n",
      "Fetching Data in 2 seconds\n",
      "Fetching Data in 2 seconds\n",
      "Fetching Data in 2 seconds\n",
      "Fetching Data in 2 seconds\n",
      "Fetching Data in 2 seconds\n",
      "Fetching Data in 2 seconds\n",
      "Fetching Data in 2 seconds\n",
      "Fetching Data in 2 seconds\n",
      "Fetching Data in 2 seconds\n",
      "Fetching Data in 2 seconds\n",
      "Fetching Data in 2 seconds\n",
      "Fetching Data in 2 seconds\n",
      "Fetching Data in 2 seconds\n",
      "Fetching Data in 2 seconds\n",
      "Fetching Data in 2 seconds\n",
      "Fetching Data in 2 seconds\n",
      "Fetching Data in 2 seconds\n",
      "Fetching Data in 2 seconds\n",
      "Fetching Data in 2 seconds\n",
      "Fetching Data in 2 seconds\n",
      "Fetching Data in 2 seconds\n",
      "Fetching Data in 2 seconds\n",
      "Fetching Data in 2 seconds\n",
      "Fetching Data in 2 seconds\n",
      "Fetching Data in 2 seconds\n",
      "Fetching Data in 2 seconds\n",
      "Fetching Data in 2 seconds\n",
      "Fetching Data in 2 seconds\n",
      "Fetching Data in 2 seconds\n",
      "Fetching Data in 2 seconds\n",
      "Fetching Data in 2 seconds\n"
     ]
    }
   ],
   "source": [
    "tcldata=scrapbrand('https://www.gsmarena.com/tcl-phones-123.php')"
   ]
  },
  {
   "cell_type": "code",
   "execution_count": 166,
   "id": "054e4bd6",
   "metadata": {},
   "outputs": [],
   "source": [
    "import pandas as pd"
   ]
  },
  {
   "cell_type": "code",
   "execution_count": 168,
   "id": "2bcb2571",
   "metadata": {},
   "outputs": [],
   "source": [
    "tcltable=pd.DataFrame(tcldata)"
   ]
  },
  {
   "cell_type": "code",
   "execution_count": 169,
   "id": "ceb1c6ec",
   "metadata": {},
   "outputs": [],
   "source": [
    "tcltable.to_excel('D:/tcl.xlsx')"
   ]
  },
  {
   "cell_type": "code",
   "execution_count": null,
   "id": "c8015e94",
   "metadata": {},
   "outputs": [],
   "source": []
  }
 ],
 "metadata": {
  "kernelspec": {
   "display_name": "Python 3 (ipykernel)",
   "language": "python",
   "name": "python3"
  },
  "language_info": {
   "codemirror_mode": {
    "name": "ipython",
    "version": 3
   },
   "file_extension": ".py",
   "mimetype": "text/x-python",
   "name": "python",
   "nbconvert_exporter": "python",
   "pygments_lexer": "ipython3",
   "version": "3.9.13"
  }
 },
 "nbformat": 4,
 "nbformat_minor": 5
}
