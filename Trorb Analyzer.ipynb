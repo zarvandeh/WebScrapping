{
 "cells": [
  {
   "cell_type": "raw",
   "id": "a9ca4c40",
   "metadata": {},
   "source": [
    "1-Ask user for a URL as the target url \n",
    "2-check if the URL has the correct format using regex\n",
    "3-if the format is not correct reask for the Correct URL and run the step 2 again\n",
    "4-send a request ro the URL\n",
    "5-check the response code of the URL\n",
    "6-If the response is not 200 , print the error code and explain what that error means to user.\n",
    "7-if the response code is 200 print a success message and go to next step\n",
    "8-get the content of the requested url as \"maincontent\"\n",
    "9-Using Beautifulsoup parse the content using \"lxml\" parser\n",
    "10-Get the text attribute of the <h1> with the class=\"jsx-63b317fab2efbae\" as \"productname\"\n",
    "11-Get the texts attribute of all <a> with calss=\"jsx-528815776 price seller-element \" as the \"product prices list"
   ]
  },
  {
   "cell_type": "code",
   "execution_count": null,
   "id": "1f0448dc",
   "metadata": {},
   "outputs": [],
   "source": [
    "pip install persiantools"
   ]
  },
  {
   "cell_type": "code",
   "execution_count": 6,
   "id": "32ba165f",
   "metadata": {},
   "outputs": [],
   "source": [
    "import pandas as pd\n",
    "import numpy as np\n",
    "import re\n",
    "import requests\n",
    "from bs4 import BeautifulSoup\n",
    "import lxml"
   ]
  },
  {
   "cell_type": "code",
   "execution_count": null,
   "id": "7973c5d5",
   "metadata": {},
   "outputs": [],
   "source": [
    "# Step 1: Ask user for a URL\n",
    "while True:\n",
    "    target_url = input(\"Enter the target URL: \")\n",
    "    \n",
    "    # Step 2: Check URL format using regex\n",
    "    url_pattern = re.compile(r'^https?://[^\\s/$.?#].[^\\s]*$')\n",
    "    if not re.match(url_pattern, target_url):\n",
    "        print(\"Incorrect URL format. Please enter a valid URL.\")\n",
    "        continue\n",
    "    \n",
    "    # Step 4: Send a request to the URL\n",
    "    response = requests.get(target_url)\n",
    "    \n",
    "    # Step 5: Check response code\n",
    "    if response.status_code != 200:\n",
    "        print(f\"Error code: {response.status_code}\")\n",
    "        print(f\"Error explanation: {response.reason}\")\n",
    "        continue\n",
    "    \n",
    "    print(\"URL is valid and response is successful.\")\n",
    "    break\n"
   ]
  },
  {
   "cell_type": "code",
   "execution_count": null,
   "id": "ec61b71c",
   "metadata": {},
   "outputs": [],
   "source": [
    "    # Step 8: Get the content of the requested URL\n",
    "    maincontent = response.content\n",
    "    maincontent"
   ]
  },
  {
   "cell_type": "code",
   "execution_count": null,
   "id": "18d23019",
   "metadata": {},
   "outputs": [],
   "source": [
    "\n",
    "    \n",
    "    # Step 9: Parse content using BeautifulSoup and lxml parser\n",
    "    soup = BeautifulSoup(maincontent, 'lxml')\n",
    "    soup"
   ]
  },
  {
   "cell_type": "code",
   "execution_count": null,
   "id": "34a94944",
   "metadata": {},
   "outputs": [],
   "source": [
    "\n",
    "    \n",
    "    # Step 10: Get text attribute of <h1> with class=\"jsx-63b317fab2efbae\"\n",
    "    productname_element = soup.find('h1', class_='jsx-63b317fab2efbae')\n",
    "    if productname_element:\n",
    "        productname = productname_element.text.strip()\n",
    "        print(f\"Product Name: {productname}\")\n",
    "    else:\n",
    "        print(\"Product name not found.\")"
   ]
  },
  {
   "cell_type": "code",
   "execution_count": null,
   "id": "43288980",
   "metadata": {},
   "outputs": [],
   "source": [
    "# Step 11: Get texts attribute of all <a> with class=\"jsx-528815776 price seller-element\"\n",
    "product_prices = soup.find_all('a', class_='jsx-528815776 price seller-element')\n",
    "if product_prices:\n",
    "    product_prices_list = [price.text.strip() for price in product_prices]\n",
    "    print(\"Product Prices List:\")\n",
    "    for idx, price in enumerate(product_prices_list, start=1):\n",
    "        print(f\"{idx}. {price}\")\n",
    "else:\n",
    "    print(\"Product prices not found.\")"
   ]
  },
  {
   "cell_type": "markdown",
   "id": "8796bc81",
   "metadata": {},
   "source": [
    "## standard format of writing this code:"
   ]
  },
  {
   "cell_type": "code",
   "execution_count": 2,
   "id": "66e3d2e1",
   "metadata": {},
   "outputs": [
    {
     "name": "stdout",
     "output_type": "stream",
     "text": [
      "Enter the target URL: https://torob.com/p/093bbbce-af7b-4249-be0b-82489a42e25c/%DA%AF%D9%88%D8%B4%DB%8C-%D8%B3%D8%A7%D9%85%D8%B3%D9%88%D9%86%DA%AF-m52-5g-%D8%AD%D8%A7%D9%81%D8%B8%D9%87-128-%D8%B1%D9%85-8-%DA%AF%DB%8C%DA%AF%D8%A7%D8%A8%D8%A7%DB%8C%D8%AA/\n",
      "Product name: گوشی سامسونگ M52 5G | حافظه 128 رم 8 گیگابایت ا Samsung Galaxy M52 5G 128/8 GB\n",
      "Product prices: ['۱۴٫۲۳۵٫۰۰۰ تومان', '۱۴٫۳۰۰٫۰۰۰ تومان', '۱۴٫۸۳۰٫۰۰۰ تومان']\n"
     ]
    }
   ],
   "source": [
    "import requests\n",
    "from bs4 import BeautifulSoup\n",
    "import re\n",
    "\n",
    "\n",
    "def get_product_info(url):\n",
    "    # Check the URL format using regex\n",
    "    if not re.match(r\"https?://.*\", url):\n",
    "        raise ValueError(\"Invalid URL format\")\n",
    "\n",
    "    # Send a request to the URL\n",
    "    response = requests.get(url)\n",
    "\n",
    "    # Check the response code\n",
    "    if response.status_code != 200:\n",
    "        raise Exception(\"Error fetching the URL: {} {}\".format(\n",
    "            response.status_code, response.reason))\n",
    "\n",
    "    # Get the content of the response\n",
    "    content = response.content\n",
    "\n",
    "    # Parse the content using BeautifulSoup\n",
    "    soup = BeautifulSoup(content, \"lxml\")\n",
    "\n",
    "    # Get the product name\n",
    "    product_name = soup.find(\"h1\", class_=\"jsx-63b317fab2efbae\").text\n",
    "\n",
    "    # Get the product prices\n",
    "    product_prices = [a.text for a in soup.find_all(\"a\", class_=\"jsx-528815776 price seller-element\")]\n",
    "\n",
    "    return product_name, product_prices\n",
    "\n",
    "\n",
    "if __name__ == \"__main__\":\n",
    "    url = input(\"Enter the target URL: \")\n",
    "\n",
    "    # Get the product info\n",
    "    product_name, product_prices = get_product_info(url)\n",
    "\n",
    "    print(\"Product name: {}\".format(product_name))\n",
    "    print(\"Product prices: {}\".format(product_prices))\n"
   ]
  },
  {
   "cell_type": "code",
   "execution_count": 1,
   "id": "8e499015",
   "metadata": {},
   "outputs": [
    {
     "name": "stdout",
     "output_type": "stream",
     "text": [
      "14235000\n"
     ]
    }
   ],
   "source": [
    "from persiantools import digits\n",
    "\n",
    "def parse_price_with_persiantools(price_str):\n",
    "    # Remove non-numeric characters (including Persian digits and \"تومان\")\n",
    "    numeric_str = ''.join(c for c in price_str if c.isdigit() or c in ['۰', '۱', '۲', '۳', '۴', '۵', '۶', '۷', '۸', '۹'])\n",
    "    # Convert Persian digits to integers\n",
    "    numeric_str = digits.fa_to_en(numeric_str)\n",
    "    # Convert to integer\n",
    "    return int(numeric_str)\n",
    "\n",
    "input_price = \"۱۴٫۲۳۵٫۰۰۰ تومان\"\n",
    "output_price = parse_price_with_persiantools(input_price)\n",
    "print(output_price)"
   ]
  },
  {
   "cell_type": "code",
   "execution_count": 3,
   "id": "0dec3334",
   "metadata": {},
   "outputs": [
    {
     "data": {
      "text/plain": [
       "['۱۴٫۲۳۵٫۰۰۰ تومان', '۱۴٫۳۰۰٫۰۰۰ تومان', '۱۴٫۸۳۰٫۰۰۰ تومان']"
      ]
     },
     "execution_count": 3,
     "metadata": {},
     "output_type": "execute_result"
    }
   ],
   "source": [
    "product_prices"
   ]
  },
  {
   "cell_type": "code",
   "execution_count": 4,
   "id": "afbeb4a0",
   "metadata": {},
   "outputs": [],
   "source": [
    "product_prices=[parse_price_with_persiantools(x) for x in product_prices]"
   ]
  },
  {
   "cell_type": "code",
   "execution_count": 5,
   "id": "2c91d3cd",
   "metadata": {},
   "outputs": [
    {
     "data": {
      "text/plain": [
       "[14235000, 14300000, 14830000]"
      ]
     },
     "execution_count": 5,
     "metadata": {},
     "output_type": "execute_result"
    }
   ],
   "source": [
    "product_prices"
   ]
  },
  {
   "cell_type": "code",
   "execution_count": 9,
   "id": "64b2574d",
   "metadata": {},
   "outputs": [
    {
     "data": {
      "text/plain": [
       "14455000.0"
      ]
     },
     "execution_count": 9,
     "metadata": {},
     "output_type": "execute_result"
    }
   ],
   "source": [
    "avg=np.mean(product_prices)\n",
    "avg"
   ]
  },
  {
   "cell_type": "markdown",
   "id": "c340459c",
   "metadata": {},
   "source": [
    "# Finalize the code"
   ]
  },
  {
   "cell_type": "code",
   "execution_count": 14,
   "id": "90ede865",
   "metadata": {},
   "outputs": [
    {
     "name": "stdout",
     "output_type": "stream",
     "text": [
      "Enter the target URL: https://torob.com/p/78548a2d-f5f2-4e3c-ab58-166df48a50e2/%DA%AF%D9%88%D8%B4%DB%8C-%D8%B3%D8%A7%D9%85%D8%B3%D9%88%D9%86%DA%AF-s23-ultra-5g-%D8%AD%D8%A7%D9%81%D8%B8%D9%87-256-%D8%B1%D9%85-12-%DA%AF%DB%8C%DA%AF%D8%A7%D8%A8%D8%A7%DB%8C%D8%AA/\n",
      "Product name: گوشی سامسونگ S23 Ultra 5G | حافظه 256 رم 12 گیگابایت ا Samsung Galaxy S23 Ultra 5G 256/12 GB\n",
      "Product prices: ['۴۸٫۹۹۹٫۰۰۰ تومان', '۴۷٫۶۵۰٫۰۰۰ تومان', '۴۷٫۹۲۹٫۹۹۹ تومان', '۴۷٫۹۳۰٫۰۰۰ تومان', '۴۷٫۹۳۰٫۰۰۰ تومان']\n",
      "The average price for گوشی سامسونگ S23 Ultra 5G | حافظه 256 رم 12 گیگابایت ا Samsung Galaxy S23 Ultra 5G 256/12 GB is 48087799.8\n"
     ]
    }
   ],
   "source": [
    "import requests\n",
    "from bs4 import BeautifulSoup\n",
    "import re\n",
    "\n",
    "def parse_price_with_persiantools(price_str):\n",
    "    # Remove non-numeric characters (including Persian digits and \"تومان\")\n",
    "    numeric_str = ''.join(c for c in price_str if c.isdigit() or c in ['۰', '۱', '۲', '۳', '۴', '۵', '۶', '۷', '۸', '۹'])\n",
    "    # Convert Persian digits to integers\n",
    "    numeric_str = digits.fa_to_en(numeric_str)\n",
    "    # Convert to integer\n",
    "    return int(numeric_str)\n",
    "\n",
    "def get_product_info(url):\n",
    "    # Check the URL format using regex\n",
    "    if not re.match(r\"https?://.*\", url):\n",
    "        raise ValueError(\"Invalid URL format\")\n",
    "\n",
    "    # Send a request to the URL\n",
    "    response = requests.get(url)\n",
    "\n",
    "    # Check the response code\n",
    "    if response.status_code != 200:\n",
    "        raise Exception(\"Error fetching the URL: {} {}\".format(\n",
    "            response.status_code, response.reason))\n",
    "\n",
    "    # Get the content of the response\n",
    "    content = response.content\n",
    "\n",
    "    # Parse the content using BeautifulSoup\n",
    "    soup = BeautifulSoup(content, \"lxml\")\n",
    "\n",
    "    # Get the product name\n",
    "    product_name = soup.find(\"h1\", class_=\"jsx-63b317fab2efbae\").text\n",
    "\n",
    "    # Get the product prices\n",
    "    product_prices = [a.text for a in soup.find_all(\"a\", class_=\"jsx-528815776 price seller-element\")]\n",
    "\n",
    "    return product_name, product_prices\n",
    "\n",
    "\n",
    "if __name__ == \"__main__\":\n",
    "    url = input(\"Enter the target URL: \")\n",
    "\n",
    "    # Get the product info\n",
    "    product_name, product_prices = get_product_info(url)\n",
    "\n",
    "    print(\"Product name: {}\".format(product_name))\n",
    "    print(\"Product prices: {}\".format(product_prices))\n",
    "    product_prices=[parse_price_with_persiantools(x) for x in product_prices]\n",
    "    avg=np.mean(product_prices)\n",
    "    print(f\"The average price for {product_name} is {avg}\")"
   ]
  },
  {
   "cell_type": "markdown",
   "id": "946a56ed",
   "metadata": {},
   "source": [
    "## -----------------------------------"
   ]
  },
  {
   "cell_type": "code",
   "execution_count": null,
   "id": "1d1cf9f2",
   "metadata": {},
   "outputs": [],
   "source": []
  }
 ],
 "metadata": {
  "kernelspec": {
   "display_name": "Python 3 (ipykernel)",
   "language": "python",
   "name": "python3"
  },
  "language_info": {
   "codemirror_mode": {
    "name": "ipython",
    "version": 3
   },
   "file_extension": ".py",
   "mimetype": "text/x-python",
   "name": "python",
   "nbconvert_exporter": "python",
   "pygments_lexer": "ipython3",
   "version": "3.9.13"
  }
 },
 "nbformat": 4,
 "nbformat_minor": 5
}
